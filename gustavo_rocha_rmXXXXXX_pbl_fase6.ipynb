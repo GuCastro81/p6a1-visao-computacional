{
 "cells": [
  {
   "cell_type": "markdown",
   "id": "b3059865",
   "metadata": {},
   "source": [
    "# Projeto de Visão Computacional - Fase 6\n",
    "**Aluno:** Gustavo Rocha de Castro  \n",
    "**RM:** XXXXXXX  \n",
    "**Arquivo:** gustavo_rocha_rmXXXXXX_pbl_fase6.ipynb"
   ]
  },
  {
   "cell_type": "markdown",
   "id": "aeccd79c",
   "metadata": {},
   "source": [
    "## Introdução\n",
    "Este projeto tem como objetivo demonstrar o uso de técnicas de Visão Computacional com foco em detecção e classificação de objetos usando YOLO e CNN."
   ]
  },
  {
   "cell_type": "markdown",
   "id": "cb7d79e2",
   "metadata": {},
   "source": [
    "## Parte 1: Treinamento com YOLO Customizada"
   ]
  },
  {
   "cell_type": "markdown",
   "id": "baa68788",
   "metadata": {},
   "source": [
    "### 1.1 Organização do Dataset\n",
    "- Explicação sobre os objetos A e B\n",
    "- Número de imagens por categoria e separação em treino/validação/teste"
   ]
  },
  {
   "cell_type": "markdown",
   "id": "62982817",
   "metadata": {},
   "source": [
    "### 1.2 Rotulagem com Make Sense AI\n",
    "- Como foi feita a rotulagem\n",
    "- Exemplo de anotação"
   ]
  },
  {
   "cell_type": "markdown",
   "id": "2ca70aad",
   "metadata": {},
   "source": [
    "### 1.3 Treinamento com YOLO\n",
    "- Setup inicial do ambiente YOLOv5\n",
    "- Treinamento com 30 épocas\n",
    "- Treinamento com 60 épocas"
   ]
  },
  {
   "cell_type": "markdown",
   "id": "3f372778",
   "metadata": {},
   "source": [
    "### 1.4 Avaliação dos Resultados\n",
    "- Comparação entre épocas\n",
    "- Imagens de teste com predições\n",
    "- Análise de desempenho"
   ]
  },
  {
   "cell_type": "markdown",
   "id": "d26f32f2",
   "metadata": {},
   "source": [
    "## Parte 2: Comparação com Outras Abordagens"
   ]
  },
  {
   "cell_type": "markdown",
   "id": "3244ff7e",
   "metadata": {},
   "source": [
    "### 2.1 YOLO Tradicional (Pré-Treinada)"
   ]
  },
  {
   "cell_type": "code",
   "execution_count": null,
   "id": "37ac05c5",
   "metadata": {},
   "outputs": [],
   "source": [
    "# Clone YOLOv5 e instalar requisitos\n",
    "!git clone https://github.com/ultralytics/yolov5\n",
    "%cd yolov5\n",
    "!pip install -r requirements.txt"
   ]
  },
  {
   "cell_type": "code",
   "execution_count": null,
   "id": "d6c410d0",
   "metadata": {},
   "outputs": [],
   "source": [
    "# Rodar YOLOv5 com pesos pré-treinados\n",
    "!python detect.py --weights yolov5s.pt --img 640 --conf 0.25 --source 'CAMINHO_PARA_IMAGENS/test'"
   ]
  },
  {
   "cell_type": "markdown",
   "id": "e3c1face",
   "metadata": {},
   "source": [
    "### 2.2 CNN Treinada do Zero"
   ]
  },
  {
   "cell_type": "code",
   "execution_count": null,
   "id": "fea739f5",
   "metadata": {},
   "outputs": [],
   "source": [
    "# Exemplo de ImageDataGenerator para carregar os dados\n",
    "do tensorflow.keras.preprocessing.image import ImageDataGenerator"
   ]
  },
  {
   "cell_type": "code",
   "execution_count": null,
   "id": "c2243fd6",
   "metadata": {},
   "outputs": [],
   "source": [
    "# Exemplo de modelo CNN com Keras"
   ]
  },
  {
   "cell_type": "code",
   "execution_count": null,
   "id": "d0ea70fd",
   "metadata": {},
   "outputs": [],
   "source": [
    "# Avaliação da CNN no conjunto de teste"
   ]
  },
  {
   "cell_type": "markdown",
   "id": "33c9857b",
   "metadata": {},
   "source": [
    "### 2.3 Comparativo Final"
   ]
  },
  {
   "cell_type": "markdown",
   "id": "f2a24126",
   "metadata": {},
   "source": [
    "| Critério | YOLO Custom | YOLO Tradicional | CNN do Zero |\n",
    "|----------|--------------|------------------|-------------|\n",
    "| Facilidade de uso | | | |\n",
    "| Precisão | | | |\n",
    "| Tempo de treinamento | | | |\n",
    "| Tempo de inferência | | | |\n",
    "\n",
    "**Conclusão:** análise crítica das abordagens"
   ]
  }
 ],
 "metadata": {},
 "nbformat": 4,
 "nbformat_minor": 5
}